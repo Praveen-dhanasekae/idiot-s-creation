{
 "cells": [
  {
   "cell_type": "code",
   "execution_count": 1,
   "metadata": {},
   "outputs": [],
   "source": [
    "from pyspark.sql.functions import monotonically_increasing_id\n",
    "from pyspark.sql.types import StringType,IntegerType,ArrayType,StructField\n",
    "from pyspark.sql.types import StructType as struct\n",
    "\n",
    "import pyspark.sql.functions as func\n",
    "from enum import Enum\n",
    "from pyspark.sql.functions import udf\n",
    "from pyspark.sql.types import Row\n",
    "from pyspark import SparkContext, SparkConf\n",
    "from pyspark.sql import SparkSession\n",
    "from pyspark.sql import SQLContext\n",
    "sc=SparkContext.getOrCreate()"
   ]
  },
  {
   "cell_type": "code",
   "execution_count": 2,
   "metadata": {
    "scrolled": true
   },
   "outputs": [],
   "source": [
    "ORACLE_DRIVER_PATH = \"C:\\Program Files\\Java\\ojdbc5.jar\"                                            \n",
    "Oracle_CONNECTION_URL =\"jdbc:oracle:thin:TPA_DEV_APP01/password@CTSC00847233301:1521:orcl\"\n",
    "sqlContext = SQLContext(sc)\n",
    "ora_tmp=spark.read.format('jdbc').options(\n",
    "        url=Oracle_CONNECTION_URL,\n",
    "        dbtable=\"ASPOLICY\",\n",
    "        driver=\"oracle.jdbc.driver.OracleDriver\"\n",
    "        ).load()"
   ]
  },
  {
   "cell_type": "code",
   "execution_count": 3,
   "metadata": {},
   "outputs": [],
   "source": [
    "ora_tmp.createOrReplaceTempView(\"people\")\n",
    "asd=spark.sql(\"SELECT POLICYGUID,POLICYNUMBER FROM people\")"
   ]
  },
  {
   "cell_type": "code",
   "execution_count": 4,
   "metadata": {},
   "outputs": [],
   "source": [
    "#asd.show()"
   ]
  },
  {
   "cell_type": "code",
   "execution_count": null,
   "metadata": {},
   "outputs": [],
   "source": []
  },
  {
   "cell_type": "code",
   "execution_count": 5,
   "metadata": {},
   "outputs": [],
   "source": [
    "tab2=spark.read.format('jdbc').options(\n",
    "        url=Oracle_CONNECTION_URL,\n",
    "        dbtable=\"ASPOLICYFIELD\",\n",
    "        driver=\"oracle.jdbc.driver.OracleDriver\"\n",
    "        ).load()"
   ]
  },
  {
   "cell_type": "code",
   "execution_count": 6,
   "metadata": {},
   "outputs": [],
   "source": [
    "ta2=asd.join(tab2,['POLICYGUID'],'outer')\n",
    "ta2.createOrReplaceTempView(\"dat1\")"
   ]
  },
  {
   "cell_type": "code",
   "execution_count": 7,
   "metadata": {},
   "outputs": [],
   "source": [
    "orgtab2=spark.sql(\"SELECT  POLICYGUID,POLICYNUMBER,FIELDNAME,FIELDTYPECODE,DATEVALUE,TEXTVALUE,INTVALUE,FLOATVALUE FROM dat1\")"
   ]
  },
  {
   "cell_type": "code",
   "execution_count": 8,
   "metadata": {},
   "outputs": [],
   "source": [
    "# ab= orgtab2.groupBy(\"POLICYNUMBER\",\"POLICYGUID\").\\\n",
    "#   agg(func.collect_list(func.create_map(func.col(\"FIELDNAME\"),\n",
    "#    func.col(\"FIELDTYPECODE\"))).alias(\"VALUES\"))\n",
    "#def separate"
   ]
  },
  {
   "cell_type": "code",
   "execution_count": 9,
   "metadata": {
    "scrolled": false
   },
   "outputs": [
    {
     "name": "stdout",
     "output_type": "stream",
     "text": [
      "root\n",
      " |-- POLICYGUID: string (nullable = true)\n",
      " |-- POLICYNUMBER: string (nullable = true)\n",
      " |-- FIELDNAME: string (nullable = true)\n",
      " |-- FIELDTYPECODE: string (nullable = true)\n",
      " |-- DATEVALUE: timestamp (nullable = true)\n",
      " |-- TEXTVALUE: string (nullable = true)\n",
      " |-- INTVALUE: decimal(10,0) (nullable = true)\n",
      " |-- FLOATVALUE: decimal(38,10) (nullable = true)\n",
      "\n",
      "root\n",
      " |-- POLICYGUID: string (nullable = true)\n",
      " |-- POLICYNUMBER: string (nullable = true)\n",
      " |-- FIELDNAME: string (nullable = true)\n",
      " |-- FIELDTYPECODE: string (nullable = true)\n",
      " |-- DATEVALUE: string (nullable = true)\n",
      " |-- TEXTVALUE: string (nullable = true)\n",
      " |-- INTVALUE: string (nullable = true)\n",
      " |-- FLOATVALUE: string (nullable = true)\n",
      "\n"
     ]
    }
   ],
   "source": [
    "orgtab2=orgtab2.withColumn(\"DATEVALUE\", orgtab2[\"DATEVALUE\"].cast(StringType()))\n",
    "#orgtab2=orgtab2.withColumn(\"FIELDTYPECODE\", orgtab2[\"FIELDTYPECODE\"].cast(IntegerType()))\n",
    "orgtab2=orgtab2.withColumn(\"INTVALUE\", orgtab2[\"INTVALUE\"].cast(StringType()))\n",
    "orgtab2=orgtab2.withColumn(\"FLOATVALUE\", orgtab2[\"FLOATVALUE\"].cast(StringType()))\n",
    "\n",
    "\n",
    "def my_udf(df):\n",
    "    if (df.FIELDTYPECODE is'1'):\n",
    "        return df.DATEVALUE\n",
    "    if(df.FIELDTYPECODE is'2'):\n",
    "        return df.TEXTVALUE\n",
    "    if(df.FIELDTYPECODE is'3'):\n",
    "        return df.INTVALUE\n",
    "    if(df.FIELDTYPECODE is'4'):\n",
    "        return df.FLOATVALUE\n",
    "\n",
    "#i=0    \n",
    "#udf_object=udf(my_udf,ArrayType( lambda x : struct(i for i in range(0,492),StringType(),True ))\n",
    "#orgtab2.withColumn(\"Values\", (udf_object((struct([orgtab2[x] for x in orgtab2.columns])))))\n",
    "#orgtab2.withColumn(\"Values\",( lambda x :func.concat_ws(\"\",x) ,my_udf(orgtab2)))"
   ]
  },
  {
   "cell_type": "code",
   "execution_count": 10,
   "metadata": {},
   "outputs": [],
   "source": [
    "\n",
    "def func(FIELDTYPECODE, DATEVALUE ,TEXTVALUE,INTVALUE,FLOATVALUE):\n",
    "    if  (FIELDTYPECODE == '01'):\n",
    "        return DATEVALUE\n",
    "    elif(FIELDTYPECODE == '02'):\n",
    "        return TEXTVALUE\n",
    "    elif(FIELDTYPECODE == '03'):\n",
    "        return INTVALUE\n",
    "    elif(FIELDTYPECODE == '04'):\n",
    "        return FLOATVALUE\n",
    "    \n",
    "func_udf = udf(func, StringType())\n",
    "orgtab2= orgtab2.withColumn(\"Vals\",func_udf(orgtab2['FIELDTYPECODE'],orgtab2['DATEVALUE'],orgtab2['TEXTVALUE'],orgtab2['INTVALUE'],orgtab2['FLOATVALUE']))\n",
    "\n",
    "#s=orgtab2.rdd\n",
    "#orgtab2.select((1)).collect()[1][1].show()\n",
    "#aq=ad=0\n",
    "#for i in orgtab2:\n",
    "#    print orgtab2.select().collect()[3]\n",
    "#    aq=aq+1\n",
    "#i=0\n",
    "#for x in ab:\n",
    "#    x.select(('POLICYNUMBER')).collect()[i][\"POLICYNUMBER\"].show()\n",
    "#    i=i+1\n",
    "#orgtab2.groupby(\"POLICYGUID\").count().show()"
   ]
  },
  {
   "cell_type": "code",
   "execution_count": 11,
   "metadata": {},
   "outputs": [],
   "source": [
    "orgtab2.createOrReplaceTempView(\"dat12\")"
   ]
  },
  {
   "cell_type": "code",
   "execution_count": 18,
   "metadata": {},
   "outputs": [],
   "source": [
    "ab= orgtab2.filter(orgtab2.FIELDNAME == \"AppReceivedDate\")"
   ]
  },
  {
   "cell_type": "code",
   "execution_count": 19,
   "metadata": {},
   "outputs": [],
   "source": [
    "ab.createOrReplaceTempView(\"dat123\")\n",
    "ab1= spark.sql(\"SELECT POLICYNUMBER,FIELDNAME,Vals FROM dat123\")"
   ]
  },
  {
   "cell_type": "code",
   "execution_count": 20,
   "metadata": {},
   "outputs": [],
   "source": [
    "ab1.write.format('json').save('/path/AppReceivedDate.json')"
   ]
  },
  {
   "cell_type": "code",
   "execution_count": null,
   "metadata": {},
   "outputs": [],
   "source": []
  }
 ],
 "metadata": {
  "kernelspec": {
   "display_name": "Python 2",
   "language": "python",
   "name": "python2"
  },
  "language_info": {
   "codemirror_mode": {
    "name": "ipython",
    "version": 2
   },
   "file_extension": ".py",
   "mimetype": "text/x-python",
   "name": "python",
   "nbconvert_exporter": "python",
   "pygments_lexer": "ipython2",
   "version": "2.7.14"
  }
 },
 "nbformat": 4,
 "nbformat_minor": 2
}
