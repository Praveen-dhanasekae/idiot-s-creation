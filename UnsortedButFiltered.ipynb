{
 "cells": [
  {
   "cell_type": "code",
   "execution_count": null,
   "metadata": {},
   "outputs": [],
   "source": [
    "from pyspark.sql.functions import monotonically_increasing_id\n",
    "from pyspark.sql.types import StringType,IntegerType,ArrayType,StructField\n",
    "from pyspark.sql.types import StructType as struct\n",
    "\n",
    "import pyspark.sql.functions as func\n",
    "from pyspark.sql.functions import udf\n",
    "from pyspark.sql.types import Row\n",
    "from pyspark import SparkContext, SparkConf\n",
    "from pyspark.sql import SparkSession\n",
    "from pyspark.sql import SQLContext\n",
    "sc=SparkContext.getOrCreate()"
   ]
  },
  {
   "cell_type": "code",
   "execution_count": null,
   "metadata": {},
   "outputs": [],
   "source": [
    "ORACLE_DRIVER_PATH = \"C:\\Program Files\\Java\\ojdbc5.jar\"                                            \n",
    "Oracle_CONNECTION_URL =\"jdbc:oracle:thin:TPA_DEV_APP01/password@CTSC00847233301:1521:orcl\"\n",
    "sqlContext = SQLContext(sc)\n",
    "ora_tmp=spark.read.format('jdbc').options(\n",
    "        url=Oracle_CONNECTION_URL,\n",
    "        dbtable=\"ASPOLICY\",\n",
    "        driver=\"oracle.jdbc.driver.OracleDriver\"\n",
    "        ).load()"
   ]
  },
  {
   "cell_type": "code",
   "execution_count": 46,
   "metadata": {},
   "outputs": [],
   "source": [
    "ora_tmp.createOrReplaceTempView(\"people\")\n",
    "asd=spark.sql(\"SELECT POLICYGUID,POLICYNUMBER FROM people\")"
   ]
  },
  {
   "cell_type": "code",
   "execution_count": 47,
   "metadata": {},
   "outputs": [],
   "source": [
    "tab2=spark.read.format('jdbc').options(\n",
    "        url=Oracle_CONNECTION_URL,\n",
    "        dbtable=\"ASPOLICYFIELD\",\n",
    "        driver=\"oracle.jdbc.driver.OracleDriver\"\n",
    "        ).load()"
   ]
  },
  {
   "cell_type": "code",
   "execution_count": 48,
   "metadata": {},
   "outputs": [],
   "source": [
    "ta2=asd.join(tab2,['POLICYGUID'],'outer')\n",
    "ta2.createOrReplaceTempView(\"dat1\")"
   ]
  },
  {
   "cell_type": "code",
   "execution_count": 49,
   "metadata": {},
   "outputs": [],
   "source": [
    "orgtab2=spark.sql(\"SELECT  POLICYGUID,POLICYNUMBER,FIELDNAME,FIELDTYPECODE,DATEVALUE,TEXTVALUE,INTVALUE,FLOATVALUE FROM dat1\")"
   ]
  },
  {
   "cell_type": "code",
   "execution_count": 50,
   "metadata": {},
   "outputs": [],
   "source": [
    "ab= orgtab2.filter(orgtab2.FIELDNAME == \"AppReceivedDate\")"
   ]
  },
  {
   "cell_type": "code",
   "execution_count": 51,
   "metadata": {},
   "outputs": [],
   "source": [
    "ab.withColumn(\"Year\",func.year(ab.DATEVALUE)).groupby(\"Year\").count().coalesce(1).write.format('json').mode('overwrite').save('/Users/687309/chart/src/a')"
   ]
  },
  {
   "cell_type": "code",
   "execution_count": 52,
   "metadata": {},
   "outputs": [],
   "source": [
    "Asclient=spark.read.format('jdbc').options(\n",
    "        url=Oracle_CONNECTION_URL,\n",
    "        dbtable=\"ASCLIENT\",\n",
    "        driver=\"oracle.jdbc.driver.OracleDriver\"\n",
    "        ).load()"
   ]
  },
  {
   "cell_type": "code",
   "execution_count": 53,
   "metadata": {},
   "outputs": [],
   "source": [
    "Ascountry=spark.read.format('jdbc').options(\n",
    "        url=Oracle_CONNECTION_URL,\n",
    "        dbtable=\"ASCOUNTRY\",\n",
    "        driver=\"oracle.jdbc.driver.OracleDriver\"\n",
    "        ).load()"
   ]
  },
  {
   "cell_type": "code",
   "execution_count": 54,
   "metadata": {},
   "outputs": [],
   "source": [
    "Asclient.createOrReplaceTempView(\"CLIENT1\")\n",
    "Ascountry.createOrReplaceTempView(\"COUNTRY1\")"
   ]
  },
  {
   "cell_type": "code",
   "execution_count": 55,
   "metadata": {},
   "outputs": [],
   "source": [
    "cli=spark.sql(\"SELECT LEGALRESIDENCECOUNTRYCODE FROM CLIENT1\")"
   ]
  },
  {
   "cell_type": "code",
   "execution_count": 56,
   "metadata": {},
   "outputs": [],
   "source": [
    "con=spark.sql(\"SELECT COUNTRYCODE,COUNTRYSHORTNAME FROM COUNTRY1\")"
   ]
  },
  {
   "cell_type": "code",
   "execution_count": 57,
   "metadata": {},
   "outputs": [],
   "source": [
    "#cli1=con.withColumnRenamed(\"COUNTRYCODE\",\"LEGALRESIDENCECOUNTRYCODE\")"
   ]
  },
  {
   "cell_type": "code",
   "execution_count": 58,
   "metadata": {},
   "outputs": [],
   "source": [
    "SEC=cli.join(con,cli.LEGALRESIDENCECOUNTRYCODE==con.COUNTRYCODE,'outer')"
   ]
  },
  {
   "cell_type": "code",
   "execution_count": 59,
   "metadata": {},
   "outputs": [],
   "source": [
    "SEC1=SEC.groupby(\"LEGALRESIDENCECOUNTRYCODE\",\"COUNTRYSHORTNAME\").count()"
   ]
  },
  {
   "cell_type": "code",
   "execution_count": 60,
   "metadata": {},
   "outputs": [],
   "source": [
    "SE1=SEC1.filter(SEC1['count']>1)"
   ]
  },
  {
   "cell_type": "code",
   "execution_count": 67,
   "metadata": {},
   "outputs": [],
   "source": [
    "SE1.coalesce(1).write.format('json').mode('overwrite').save('/Users/687309/chart/src/l')"
   ]
  },
  {
   "cell_type": "code",
   "execution_count": 62,
   "metadata": {},
   "outputs": [],
   "source": [
    "Cli=spark.sql(\"SELECT SEX FROM CLIENT1\")"
   ]
  },
  {
   "cell_type": "code",
   "execution_count": 63,
   "metadata": {},
   "outputs": [],
   "source": [
    "third=Cli.fillna({'SEX':'companies'})"
   ]
  },
  {
   "cell_type": "code",
   "execution_count": 64,
   "metadata": {},
   "outputs": [],
   "source": [
    "third.groupby(\"SEX\").count().coalesce(1).write.format('json').mode('overwrite').save('/Users/687309/chart/src/c')"
   ]
  },
  {
   "cell_type": "code",
   "execution_count": null,
   "metadata": {},
   "outputs": [],
   "source": []
  }
 ],
 "metadata": {
  "kernelspec": {
   "display_name": "Python 2",
   "language": "python",
   "name": "python2"
  },
  "language_info": {
   "codemirror_mode": {
    "name": "ipython",
    "version": 2
   },
   "file_extension": ".py",
   "mimetype": "text/x-python",
   "name": "python",
   "nbconvert_exporter": "python",
   "pygments_lexer": "ipython2",
   "version": "2.7.14"
  }
 },
 "nbformat": 4,
 "nbformat_minor": 2
}
